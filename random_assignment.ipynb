{
  "nbformat": 4,
  "nbformat_minor": 0,
  "metadata": {
    "colab": {
      "provenance": [],
      "authorship_tag": "ABX9TyPwasWm+DY+5s2nKSsL6ZrX"
    },
    "kernelspec": {
      "name": "python3",
      "display_name": "Python 3"
    },
    "language_info": {
      "name": "python"
    }
  },
  "cells": [
    {
      "cell_type": "code",
      "execution_count": 1,
      "metadata": {
        "id": "iwiyCiOzD6gx",
        "colab": {
          "base_uri": "https://localhost:8080/"
        },
        "outputId": "dd52c342-c083-42da-fe8b-9feed4e60d57"
      },
      "outputs": [
        {
          "output_type": "stream",
          "name": "stdout",
          "text": [
            "Mounted at /content/drive\n"
          ]
        }
      ],
      "source": [
        "# mount drive\n",
        "from google.colab import drive\n",
        "drive.mount('/content/drive', force_remount=True)"
      ]
    },
    {
      "cell_type": "code",
      "source": [
        "# import packages\n",
        "import numpy as np\n",
        "import pandas as pd\n",
        "from collections import Counter\n",
        "import matplotlib.pyplot as plt"
      ],
      "metadata": {
        "id": "wdGBigr18XAK"
      },
      "execution_count": 26,
      "outputs": []
    },
    {
      "cell_type": "code",
      "source": [
        "# simulate condition assignments\n",
        "\n",
        "conds = ['1', '2', '3'] # possible outcomes\n",
        "sims = 10000            # number of simulations\n",
        "size = 600              # the sample size of each \"study\"\n",
        "\n",
        "# store the outcomes\n",
        "outcomes = []"
      ],
      "metadata": {
        "id": "pxcXDyvm8YFp"
      },
      "execution_count": 27,
      "outputs": []
    },
    {
      "cell_type": "code",
      "source": [
        "# set a seed, if desired\n",
        "np.random.seed(123)"
      ],
      "metadata": {
        "id": "kibYKMD--52E"
      },
      "execution_count": 28,
      "outputs": []
    },
    {
      "cell_type": "code",
      "source": [
        "# the function\n",
        "for i in range(sims):\n",
        "  dist = np.random.choice(conds, size=size, replace=True)\n",
        "  outcomes.append(dist)"
      ],
      "metadata": {
        "id": "ofmSItry9Yzf"
      },
      "execution_count": 29,
      "outputs": []
    },
    {
      "cell_type": "code",
      "source": [
        "# make the distribution of everything an np.array\n",
        "every_outcome = np.array(outcomes)"
      ],
      "metadata": {
        "id": "tLJtniHQ-T4d"
      },
      "execution_count": 30,
      "outputs": []
    },
    {
      "cell_type": "code",
      "source": [
        "'''\n",
        "# look at the distribution of a random outcome\n",
        "outcome_counts = Counter(every_outcome[576])\n",
        "print(outcome_counts)\n",
        "'''"
      ],
      "metadata": {
        "colab": {
          "base_uri": "https://localhost:8080/"
        },
        "id": "Habp37eQ-cwT",
        "outputId": "eb7dfc25-1015-4481-df64-1972b20a9c81"
      },
      "execution_count": 31,
      "outputs": [
        {
          "output_type": "stream",
          "name": "stdout",
          "text": [
            "Counter({'1': 211, '3': 198, '2': 191})\n"
          ]
        }
      ]
    },
    {
      "cell_type": "code",
      "source": [
        "# look at the head of every_outcome\n",
        "every_outcome_df = pd.DataFrame(every_outcome)\n",
        "every_outcome_df.head() # this is a DF now, so every row is a observartion\n",
        "every_outcome_df.tail() # and we have 10,000 rows, so every row is one simulation"
      ],
      "metadata": {
        "colab": {
          "base_uri": "https://localhost:8080/",
          "height": 236
        },
        "collapsed": true,
        "id": "ncb2xelx_Cuo",
        "outputId": "6a09bec1-72e5-4082-f543-1134b4a9e1ed"
      },
      "execution_count": 32,
      "outputs": [
        {
          "output_type": "execute_result",
          "data": {
            "text/plain": [
              "     0   1   2   3   4   5   6   7   8   9    ... 590 591 592 593 594 595 596  \\\n",
              "9995   1   3   3   2   1   3   2   3   3   1  ...   1   3   2   2   3   3   3   \n",
              "9996   3   1   2   2   2   3   3   3   3   1  ...   3   3   2   2   1   2   1   \n",
              "9997   1   2   2   2   1   2   2   1   2   3  ...   3   3   1   1   3   3   1   \n",
              "9998   2   1   1   2   1   2   1   3   3   3  ...   2   1   3   1   2   2   1   \n",
              "9999   1   3   1   1   3   2   1   3   2   1  ...   3   2   3   3   1   2   2   \n",
              "\n",
              "     597 598 599  \n",
              "9995   2   2   3  \n",
              "9996   3   1   3  \n",
              "9997   2   1   1  \n",
              "9998   3   1   2  \n",
              "9999   1   2   1  \n",
              "\n",
              "[5 rows x 600 columns]"
            ],
            "text/html": [
              "\n",
              "  <div id=\"df-89dfd9d7-e62a-4b09-b5d2-408efe97a004\" class=\"colab-df-container\">\n",
              "    <div>\n",
              "<style scoped>\n",
              "    .dataframe tbody tr th:only-of-type {\n",
              "        vertical-align: middle;\n",
              "    }\n",
              "\n",
              "    .dataframe tbody tr th {\n",
              "        vertical-align: top;\n",
              "    }\n",
              "\n",
              "    .dataframe thead th {\n",
              "        text-align: right;\n",
              "    }\n",
              "</style>\n",
              "<table border=\"1\" class=\"dataframe\">\n",
              "  <thead>\n",
              "    <tr style=\"text-align: right;\">\n",
              "      <th></th>\n",
              "      <th>0</th>\n",
              "      <th>1</th>\n",
              "      <th>2</th>\n",
              "      <th>3</th>\n",
              "      <th>4</th>\n",
              "      <th>5</th>\n",
              "      <th>6</th>\n",
              "      <th>7</th>\n",
              "      <th>8</th>\n",
              "      <th>9</th>\n",
              "      <th>...</th>\n",
              "      <th>590</th>\n",
              "      <th>591</th>\n",
              "      <th>592</th>\n",
              "      <th>593</th>\n",
              "      <th>594</th>\n",
              "      <th>595</th>\n",
              "      <th>596</th>\n",
              "      <th>597</th>\n",
              "      <th>598</th>\n",
              "      <th>599</th>\n",
              "    </tr>\n",
              "  </thead>\n",
              "  <tbody>\n",
              "    <tr>\n",
              "      <th>9995</th>\n",
              "      <td>1</td>\n",
              "      <td>3</td>\n",
              "      <td>3</td>\n",
              "      <td>2</td>\n",
              "      <td>1</td>\n",
              "      <td>3</td>\n",
              "      <td>2</td>\n",
              "      <td>3</td>\n",
              "      <td>3</td>\n",
              "      <td>1</td>\n",
              "      <td>...</td>\n",
              "      <td>1</td>\n",
              "      <td>3</td>\n",
              "      <td>2</td>\n",
              "      <td>2</td>\n",
              "      <td>3</td>\n",
              "      <td>3</td>\n",
              "      <td>3</td>\n",
              "      <td>2</td>\n",
              "      <td>2</td>\n",
              "      <td>3</td>\n",
              "    </tr>\n",
              "    <tr>\n",
              "      <th>9996</th>\n",
              "      <td>3</td>\n",
              "      <td>1</td>\n",
              "      <td>2</td>\n",
              "      <td>2</td>\n",
              "      <td>2</td>\n",
              "      <td>3</td>\n",
              "      <td>3</td>\n",
              "      <td>3</td>\n",
              "      <td>3</td>\n",
              "      <td>1</td>\n",
              "      <td>...</td>\n",
              "      <td>3</td>\n",
              "      <td>3</td>\n",
              "      <td>2</td>\n",
              "      <td>2</td>\n",
              "      <td>1</td>\n",
              "      <td>2</td>\n",
              "      <td>1</td>\n",
              "      <td>3</td>\n",
              "      <td>1</td>\n",
              "      <td>3</td>\n",
              "    </tr>\n",
              "    <tr>\n",
              "      <th>9997</th>\n",
              "      <td>1</td>\n",
              "      <td>2</td>\n",
              "      <td>2</td>\n",
              "      <td>2</td>\n",
              "      <td>1</td>\n",
              "      <td>2</td>\n",
              "      <td>2</td>\n",
              "      <td>1</td>\n",
              "      <td>2</td>\n",
              "      <td>3</td>\n",
              "      <td>...</td>\n",
              "      <td>3</td>\n",
              "      <td>3</td>\n",
              "      <td>1</td>\n",
              "      <td>1</td>\n",
              "      <td>3</td>\n",
              "      <td>3</td>\n",
              "      <td>1</td>\n",
              "      <td>2</td>\n",
              "      <td>1</td>\n",
              "      <td>1</td>\n",
              "    </tr>\n",
              "    <tr>\n",
              "      <th>9998</th>\n",
              "      <td>2</td>\n",
              "      <td>1</td>\n",
              "      <td>1</td>\n",
              "      <td>2</td>\n",
              "      <td>1</td>\n",
              "      <td>2</td>\n",
              "      <td>1</td>\n",
              "      <td>3</td>\n",
              "      <td>3</td>\n",
              "      <td>3</td>\n",
              "      <td>...</td>\n",
              "      <td>2</td>\n",
              "      <td>1</td>\n",
              "      <td>3</td>\n",
              "      <td>1</td>\n",
              "      <td>2</td>\n",
              "      <td>2</td>\n",
              "      <td>1</td>\n",
              "      <td>3</td>\n",
              "      <td>1</td>\n",
              "      <td>2</td>\n",
              "    </tr>\n",
              "    <tr>\n",
              "      <th>9999</th>\n",
              "      <td>1</td>\n",
              "      <td>3</td>\n",
              "      <td>1</td>\n",
              "      <td>1</td>\n",
              "      <td>3</td>\n",
              "      <td>2</td>\n",
              "      <td>1</td>\n",
              "      <td>3</td>\n",
              "      <td>2</td>\n",
              "      <td>1</td>\n",
              "      <td>...</td>\n",
              "      <td>3</td>\n",
              "      <td>2</td>\n",
              "      <td>3</td>\n",
              "      <td>3</td>\n",
              "      <td>1</td>\n",
              "      <td>2</td>\n",
              "      <td>2</td>\n",
              "      <td>1</td>\n",
              "      <td>2</td>\n",
              "      <td>1</td>\n",
              "    </tr>\n",
              "  </tbody>\n",
              "</table>\n",
              "<p>5 rows × 600 columns</p>\n",
              "</div>\n",
              "    <div class=\"colab-df-buttons\">\n",
              "\n",
              "  <div class=\"colab-df-container\">\n",
              "    <button class=\"colab-df-convert\" onclick=\"convertToInteractive('df-89dfd9d7-e62a-4b09-b5d2-408efe97a004')\"\n",
              "            title=\"Convert this dataframe to an interactive table.\"\n",
              "            style=\"display:none;\">\n",
              "\n",
              "  <svg xmlns=\"http://www.w3.org/2000/svg\" height=\"24px\" viewBox=\"0 -960 960 960\">\n",
              "    <path d=\"M120-120v-720h720v720H120Zm60-500h600v-160H180v160Zm220 220h160v-160H400v160Zm0 220h160v-160H400v160ZM180-400h160v-160H180v160Zm440 0h160v-160H620v160ZM180-180h160v-160H180v160Zm440 0h160v-160H620v160Z\"/>\n",
              "  </svg>\n",
              "    </button>\n",
              "\n",
              "  <style>\n",
              "    .colab-df-container {\n",
              "      display:flex;\n",
              "      gap: 12px;\n",
              "    }\n",
              "\n",
              "    .colab-df-convert {\n",
              "      background-color: #E8F0FE;\n",
              "      border: none;\n",
              "      border-radius: 50%;\n",
              "      cursor: pointer;\n",
              "      display: none;\n",
              "      fill: #1967D2;\n",
              "      height: 32px;\n",
              "      padding: 0 0 0 0;\n",
              "      width: 32px;\n",
              "    }\n",
              "\n",
              "    .colab-df-convert:hover {\n",
              "      background-color: #E2EBFA;\n",
              "      box-shadow: 0px 1px 2px rgba(60, 64, 67, 0.3), 0px 1px 3px 1px rgba(60, 64, 67, 0.15);\n",
              "      fill: #174EA6;\n",
              "    }\n",
              "\n",
              "    .colab-df-buttons div {\n",
              "      margin-bottom: 4px;\n",
              "    }\n",
              "\n",
              "    [theme=dark] .colab-df-convert {\n",
              "      background-color: #3B4455;\n",
              "      fill: #D2E3FC;\n",
              "    }\n",
              "\n",
              "    [theme=dark] .colab-df-convert:hover {\n",
              "      background-color: #434B5C;\n",
              "      box-shadow: 0px 1px 3px 1px rgba(0, 0, 0, 0.15);\n",
              "      filter: drop-shadow(0px 1px 2px rgba(0, 0, 0, 0.3));\n",
              "      fill: #FFFFFF;\n",
              "    }\n",
              "  </style>\n",
              "\n",
              "    <script>\n",
              "      const buttonEl =\n",
              "        document.querySelector('#df-89dfd9d7-e62a-4b09-b5d2-408efe97a004 button.colab-df-convert');\n",
              "      buttonEl.style.display =\n",
              "        google.colab.kernel.accessAllowed ? 'block' : 'none';\n",
              "\n",
              "      async function convertToInteractive(key) {\n",
              "        const element = document.querySelector('#df-89dfd9d7-e62a-4b09-b5d2-408efe97a004');\n",
              "        const dataTable =\n",
              "          await google.colab.kernel.invokeFunction('convertToInteractive',\n",
              "                                                    [key], {});\n",
              "        if (!dataTable) return;\n",
              "\n",
              "        const docLinkHtml = 'Like what you see? Visit the ' +\n",
              "          '<a target=\"_blank\" href=https://colab.research.google.com/notebooks/data_table.ipynb>data table notebook</a>'\n",
              "          + ' to learn more about interactive tables.';\n",
              "        element.innerHTML = '';\n",
              "        dataTable['output_type'] = 'display_data';\n",
              "        await google.colab.output.renderOutput(dataTable, element);\n",
              "        const docLink = document.createElement('div');\n",
              "        docLink.innerHTML = docLinkHtml;\n",
              "        element.appendChild(docLink);\n",
              "      }\n",
              "    </script>\n",
              "  </div>\n",
              "\n",
              "\n",
              "<div id=\"df-cd6a5060-1307-429e-bcde-f58175fb4d3a\">\n",
              "  <button class=\"colab-df-quickchart\" onclick=\"quickchart('df-cd6a5060-1307-429e-bcde-f58175fb4d3a')\"\n",
              "            title=\"Suggest charts\"\n",
              "            style=\"display:none;\">\n",
              "\n",
              "<svg xmlns=\"http://www.w3.org/2000/svg\" height=\"24px\"viewBox=\"0 0 24 24\"\n",
              "     width=\"24px\">\n",
              "    <g>\n",
              "        <path d=\"M19 3H5c-1.1 0-2 .9-2 2v14c0 1.1.9 2 2 2h14c1.1 0 2-.9 2-2V5c0-1.1-.9-2-2-2zM9 17H7v-7h2v7zm4 0h-2V7h2v10zm4 0h-2v-4h2v4z\"/>\n",
              "    </g>\n",
              "</svg>\n",
              "  </button>\n",
              "\n",
              "<style>\n",
              "  .colab-df-quickchart {\n",
              "      --bg-color: #E8F0FE;\n",
              "      --fill-color: #1967D2;\n",
              "      --hover-bg-color: #E2EBFA;\n",
              "      --hover-fill-color: #174EA6;\n",
              "      --disabled-fill-color: #AAA;\n",
              "      --disabled-bg-color: #DDD;\n",
              "  }\n",
              "\n",
              "  [theme=dark] .colab-df-quickchart {\n",
              "      --bg-color: #3B4455;\n",
              "      --fill-color: #D2E3FC;\n",
              "      --hover-bg-color: #434B5C;\n",
              "      --hover-fill-color: #FFFFFF;\n",
              "      --disabled-bg-color: #3B4455;\n",
              "      --disabled-fill-color: #666;\n",
              "  }\n",
              "\n",
              "  .colab-df-quickchart {\n",
              "    background-color: var(--bg-color);\n",
              "    border: none;\n",
              "    border-radius: 50%;\n",
              "    cursor: pointer;\n",
              "    display: none;\n",
              "    fill: var(--fill-color);\n",
              "    height: 32px;\n",
              "    padding: 0;\n",
              "    width: 32px;\n",
              "  }\n",
              "\n",
              "  .colab-df-quickchart:hover {\n",
              "    background-color: var(--hover-bg-color);\n",
              "    box-shadow: 0 1px 2px rgba(60, 64, 67, 0.3), 0 1px 3px 1px rgba(60, 64, 67, 0.15);\n",
              "    fill: var(--button-hover-fill-color);\n",
              "  }\n",
              "\n",
              "  .colab-df-quickchart-complete:disabled,\n",
              "  .colab-df-quickchart-complete:disabled:hover {\n",
              "    background-color: var(--disabled-bg-color);\n",
              "    fill: var(--disabled-fill-color);\n",
              "    box-shadow: none;\n",
              "  }\n",
              "\n",
              "  .colab-df-spinner {\n",
              "    border: 2px solid var(--fill-color);\n",
              "    border-color: transparent;\n",
              "    border-bottom-color: var(--fill-color);\n",
              "    animation:\n",
              "      spin 1s steps(1) infinite;\n",
              "  }\n",
              "\n",
              "  @keyframes spin {\n",
              "    0% {\n",
              "      border-color: transparent;\n",
              "      border-bottom-color: var(--fill-color);\n",
              "      border-left-color: var(--fill-color);\n",
              "    }\n",
              "    20% {\n",
              "      border-color: transparent;\n",
              "      border-left-color: var(--fill-color);\n",
              "      border-top-color: var(--fill-color);\n",
              "    }\n",
              "    30% {\n",
              "      border-color: transparent;\n",
              "      border-left-color: var(--fill-color);\n",
              "      border-top-color: var(--fill-color);\n",
              "      border-right-color: var(--fill-color);\n",
              "    }\n",
              "    40% {\n",
              "      border-color: transparent;\n",
              "      border-right-color: var(--fill-color);\n",
              "      border-top-color: var(--fill-color);\n",
              "    }\n",
              "    60% {\n",
              "      border-color: transparent;\n",
              "      border-right-color: var(--fill-color);\n",
              "    }\n",
              "    80% {\n",
              "      border-color: transparent;\n",
              "      border-right-color: var(--fill-color);\n",
              "      border-bottom-color: var(--fill-color);\n",
              "    }\n",
              "    90% {\n",
              "      border-color: transparent;\n",
              "      border-bottom-color: var(--fill-color);\n",
              "    }\n",
              "  }\n",
              "</style>\n",
              "\n",
              "  <script>\n",
              "    async function quickchart(key) {\n",
              "      const quickchartButtonEl =\n",
              "        document.querySelector('#' + key + ' button');\n",
              "      quickchartButtonEl.disabled = true;  // To prevent multiple clicks.\n",
              "      quickchartButtonEl.classList.add('colab-df-spinner');\n",
              "      try {\n",
              "        const charts = await google.colab.kernel.invokeFunction(\n",
              "            'suggestCharts', [key], {});\n",
              "      } catch (error) {\n",
              "        console.error('Error during call to suggestCharts:', error);\n",
              "      }\n",
              "      quickchartButtonEl.classList.remove('colab-df-spinner');\n",
              "      quickchartButtonEl.classList.add('colab-df-quickchart-complete');\n",
              "    }\n",
              "    (() => {\n",
              "      let quickchartButtonEl =\n",
              "        document.querySelector('#df-cd6a5060-1307-429e-bcde-f58175fb4d3a button');\n",
              "      quickchartButtonEl.style.display =\n",
              "        google.colab.kernel.accessAllowed ? 'block' : 'none';\n",
              "    })();\n",
              "  </script>\n",
              "</div>\n",
              "\n",
              "    </div>\n",
              "  </div>\n"
            ],
            "application/vnd.google.colaboratory.intrinsic+json": {
              "type": "dataframe"
            }
          },
          "metadata": {},
          "execution_count": 32
        }
      ]
    },
    {
      "cell_type": "code",
      "source": [
        "# go from wide to long\n",
        "every_outcome_long = pd.melt(every_outcome_df, var_name='Variable', value_name='Value')\n",
        "print(every_outcome_long.head())"
      ],
      "metadata": {
        "colab": {
          "base_uri": "https://localhost:8080/"
        },
        "id": "GDxWd_MH_kyk",
        "outputId": "ae00ac29-9816-480c-aee6-2e602158c2c7"
      },
      "execution_count": 33,
      "outputs": [
        {
          "output_type": "stream",
          "name": "stdout",
          "text": [
            "   Variable Value\n",
            "0         0     3\n",
            "1         0     2\n",
            "2         0     1\n",
            "3         0     2\n",
            "4         0     2\n"
          ]
        }
      ]
    },
    {
      "cell_type": "code",
      "source": [
        "len(every_outcome_long)"
      ],
      "metadata": {
        "colab": {
          "base_uri": "https://localhost:8080/"
        },
        "id": "YM8HTnnN_t-c",
        "outputId": "ae0b37c0-63bf-4dd6-f638-2aafd703c4cf"
      },
      "execution_count": 34,
      "outputs": [
        {
          "output_type": "execute_result",
          "data": {
            "text/plain": [
              "6000000"
            ]
          },
          "metadata": {},
          "execution_count": 34
        }
      ]
    },
    {
      "cell_type": "code",
      "source": [
        "# do some renaming\n",
        "every_outcome_long = every_outcome_long.rename(columns={\n",
        "    'Variable': 'Simulation',\n",
        "    'Value':'Condition'\n",
        "})"
      ],
      "metadata": {
        "id": "PefuqjMrBBgt"
      },
      "execution_count": 35,
      "outputs": []
    },
    {
      "cell_type": "code",
      "source": [
        "# count occurances across all of the simulations\n",
        "condition_counts = every_outcome_long.groupby('Condition')['Simulation'].count()\n",
        "condition_distribution = condition_counts / len(every_outcome_long) * 100\n",
        "print(condition_distribution) # across everything, you have effectively perfect random assignment\n",
        "# but that doesn't mean that random assignment might \"fail\" :)"
      ],
      "metadata": {
        "colab": {
          "base_uri": "https://localhost:8080/"
        },
        "id": "w_nEbJoMCJHL",
        "outputId": "49d75e77-b021-4905-d6cf-cdbe9a2cc97d"
      },
      "execution_count": 41,
      "outputs": [
        {
          "output_type": "stream",
          "name": "stdout",
          "text": [
            "Condition\n",
            "1    2000281\n",
            "2    2000288\n",
            "3    1999431\n",
            "Name: Simulation, dtype: int64\n",
            "Condition\n",
            "1    33.338017\n",
            "2    33.338133\n",
            "3    33.323850\n",
            "Name: Simulation, dtype: float64\n"
          ]
        }
      ]
    },
    {
      "cell_type": "code",
      "source": [
        "# counting everything in each row\n",
        "def count_distribution(row):\n",
        "  counts = Counter(row)\n",
        "  return counts\n",
        "\n",
        "# apply the function we've created\n",
        "row_distributions = every_outcome_df.apply(count_distribution, axis=1)\n",
        "print(row_distributions) # this is too unruely to just print"
      ],
      "metadata": {
        "colab": {
          "base_uri": "https://localhost:8080/"
        },
        "id": "8sTN7RiCC1n5",
        "outputId": "63d19e29-91fe-46d2-df8d-28e614f26ab7"
      },
      "execution_count": 46,
      "outputs": [
        {
          "output_type": "stream",
          "name": "stdout",
          "text": [
            "0       {'3': 205, '2': 202, '1': 193}\n",
            "1       {'2': 208, '3': 193, '1': 199}\n",
            "2       {'1': 203, '2': 193, '3': 204}\n",
            "3       {'2': 193, '3': 218, '1': 189}\n",
            "4       {'2': 192, '1': 192, '3': 216}\n",
            "                     ...              \n",
            "9995    {'1': 209, '3': 204, '2': 187}\n",
            "9996    {'3': 206, '1': 195, '2': 199}\n",
            "9997    {'1': 203, '2': 196, '3': 201}\n",
            "9998    {'2': 192, '1': 199, '3': 209}\n",
            "9999    {'1': 166, '3': 222, '2': 212}\n",
            "Length: 10000, dtype: object\n"
          ]
        }
      ]
    },
    {
      "cell_type": "code",
      "source": [
        "# first, get all of the counts\n",
        "counts_1 = [dist.get('1', 0) for dist in row_distributions] # get the counts of 1, etc.\n",
        "counts_2 = [dist.get('2', 0) for dist in row_distributions]\n",
        "counts_3 = [dist.get('3', 0) for dist in row_distributions]\n",
        "\n",
        "# size\n",
        "plt.figure(figsize=(15, 6))\n",
        "\n",
        "# each of the three subplots\n",
        "plt.subplot(1, 3, 1)\n",
        "plt.hist(counts_1, bins=range(min(counts_1), max(counts_1) + 2), edgecolor='black')\n",
        "plt.xlabel('Count of 1')\n",
        "plt.ylabel('Frequency')\n",
        "plt.title('Distribution of Count of 1')\n",
        "\n",
        "plt.subplot(1, 3, 2)\n",
        "plt.hist(counts_2, bins=range(min(counts_2), max(counts_2) + 2), edgecolor='black')\n",
        "plt.xlabel('Count of 2')\n",
        "plt.ylabel('Frequency')\n",
        "plt.title('Distribution of Count of 2')\n",
        "\n",
        "plt.subplot(1, 3, 3)\n",
        "plt.hist(counts_3, bins=range(min(counts_3), max(counts_3) + 2), edgecolor='black')\n",
        "plt.xlabel('Count of 3')\n",
        "plt.ylabel('Frequency')\n",
        "plt.title('Distribution of Count of 3')\n",
        "\n",
        "plt.tight_layout()\n",
        "plt.show() # look perfectly normall distributed\n",
        "# sometimes, random assignment does fail!"
      ],
      "metadata": {
        "colab": {
          "base_uri": "https://localhost:8080/",
          "height": 467
        },
        "id": "TK5py8iaD32u",
        "outputId": "250dbfa1-ae69-4a53-dcaa-68caff7fffc2"
      },
      "execution_count": 49,
      "outputs": [
        {
          "output_type": "display_data",
          "data": {
            "text/plain": [
              "<Figure size 1500x600 with 3 Axes>"
            ],
            "image/png": "[encoded data removed]"
          },
          "metadata": {}
        }
      ]
    },
    {
      "cell_type": "code",
      "source": [
        "counts_2.sort() # this can be used to sort the counts in ascending order, for easier understanding"
      ],
      "metadata": {
        "collapsed": true,
        "id": "zAz-YE8DEzux"
      },
      "execution_count": 54,
      "outputs": []
    },
    {
      "cell_type": "code",
      "source": [
        "# now, the moment in which we can better understand how common rare numbers actually are\n",
        "count_less_than = 0\n",
        "for count in counts_1:\n",
        "  if count < 170: # these determine what the actual less than value is (or equal to)\n",
        "    count_less_than += 1\n",
        "for count in counts_2:\n",
        "  if count < 170:\n",
        "    count_less_than += 1\n",
        "for count in counts_3:\n",
        "  if count < 170:\n",
        "    count_less_than += 1\n",
        "\n",
        "print(\"The number of times a number less than 160 appears in this simulation is:\", count_less_than)\n",
        "print(\"In other words,\", ((count_less_than) / (10000))*100,\"% of the time\")"
      ],
      "metadata": {
        "colab": {
          "base_uri": "https://localhost:8080/"
        },
        "id": "_TV2_zq0GMRt",
        "outputId": "54b6cd19-7b5c-4db3-f953-29ed3e5e4b4e"
      },
      "execution_count": 72,
      "outputs": [
        {
          "output_type": "stream",
          "name": "stdout",
          "text": [
            "The number of times a number less than 160 appears in this simulation is: 106\n",
            "In other words, 1.06 % of the time\n"
          ]
        }
      ]
    }
  ]
}